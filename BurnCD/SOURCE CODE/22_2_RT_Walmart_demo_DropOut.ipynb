{
 "cells": [
  {
   "cell_type": "code",
   "execution_count": 1,
   "metadata": {
    "collapsed": false
   },
   "outputs": [
    {
     "name": "stderr",
     "output_type": "stream",
     "text": [
      "Using Theano backend.\n"
     ]
    }
   ],
   "source": [
    "##Khai báo các thư viện\n",
    "from __future__ import print_function\n",
    "import time\n",
    "import numpy as np\n",
    "np.random.seed(1337)  # for reproducibility\n",
    "\n",
    "from keras.preprocessing import sequence\n",
    "from keras.models import Model, Sequential\n",
    "from keras.layers import Dense, Dropout, Embedding, LSTM, Input, merge, BatchNormalization,GRU\n",
    "from keras.datasets import imdb\n",
    "\n",
    "import os\n",
    "from keras.preprocessing.text import Tokenizer\n"
   ]
  },
  {
   "cell_type": "code",
   "execution_count": 2,
   "metadata": {
    "collapsed": true
   },
   "outputs": [],
   "source": [
    "## Gán nhãn cho dữ liệu train\n",
    "X_train = []\n",
    "y_train = []\n",
    "\n",
    "path = 'C:/KHOALUAN/DATA/individual_stocs_reuter/walmart/train/pos/'\n",
    "X_train.extend([open(path + f).read() for f in os.listdir(path) if f.endswith('.txt')])\n",
    "\n",
    "y_train.extend([1 for _ in range(880)])\n",
    "\n",
    "path = 'C:/KHOALUAN/DATA/individual_stocs_reuter/walmart/train/neg/'\n",
    "X_train.extend([open(path + f).read() for f in os.listdir(path) if f.endswith('.txt')])\n",
    "\n",
    "y_train.extend([0 for _ in range(604)])\n"
   ]
  },
  {
   "cell_type": "code",
   "execution_count": 3,
   "metadata": {
    "collapsed": false
   },
   "outputs": [],
   "source": [
    "##Gán nhãn cho dữ liệu test\n",
    "X_test = []\n",
    "y_test = []\n",
    "\n",
    "path = 'C:/KHOALUAN/DATA/individual_stocs_reuter/walmart/test/pos/'\n",
    "X_test.extend([open(path + f).read() for f in os.listdir(path) if f.endswith('.txt')])\n",
    "y_test.extend([1 for _ in range(439)])\n",
    "\n",
    "path = 'C:/KHOALUAN/DATA/individual_stocs_reuter/walmart/test/neg/'\n",
    "X_test.extend([open(path + f).read() for f in os.listdir(path) if f.endswith('.txt')])\n",
    "y_test.extend([0 for _ in range(302)])\n"
   ]
  },
  {
   "cell_type": "code",
   "execution_count": 4,
   "metadata": {
    "collapsed": true
   },
   "outputs": [],
   "source": [
    "## Khai báo tham số đặc trưng và chiều dài câu\n",
    "max_features =1000\n",
    "max_len = 500  # cut texts after this number of words (among top max_features most common words)"
   ]
  },
  {
   "cell_type": "code",
   "execution_count": 5,
   "metadata": {
    "collapsed": false
   },
   "outputs": [],
   "source": [
    "## Xử lý remove stop words cho dữ liệu train\n",
    "from nltk.corpus import stopwords\n",
    "from nltk.tokenize import word_tokenize\n",
    "\n",
    "X_train_rm= []\n",
    "stop_words=set(stopwords.words(\"english\"))\n",
    "for x in X_train:\n",
    "    words=word_tokenize(x)\n",
    "    remove_sw= [w for w in words if not w in stop_words]\n",
    "    X_train_rm.append(remove_sw),\n",
    "sentence_train=[] \n",
    "for i in range(len(X_train_rm)):\n",
    "    s = \"\"\n",
    "    for j in range(len(X_train_rm[i])):\n",
    "        s+=X_train_rm[i][j]+\" \"\n",
    "    sentence_train.append(s),\n"
   ]
  },
  {
   "cell_type": "code",
   "execution_count": 6,
   "metadata": {
    "collapsed": false
   },
   "outputs": [],
   "source": [
    "## Xử lý remove stop words cho dữ liệu test\n",
    "X_test_rm= []\n",
    "stop_words=set(stopwords.words(\"english\"))\n",
    "for x in X_test:\n",
    "    words=word_tokenize(x)\n",
    "    remove_sw= [w for w in words if not w in stop_words]\n",
    "\n",
    "    X_test_rm.append(remove_sw),\n",
    "sentence_test=[] \n",
    "for i in range(len(X_test_rm)):\n",
    "    s = \"\"\n",
    "    for j in range(len(X_test_rm[i])):\n",
    "        s+=X_test_rm[i][j]+\" \"\n",
    "    sentence_test.append(s),\n"
   ]
  },
  {
   "cell_type": "code",
   "execution_count": 7,
   "metadata": {
    "collapsed": false
   },
   "outputs": [
    {
     "name": "stdout",
     "output_type": "stream",
     "text": [
      "Number of words: \n",
      "1401\n"
     ]
    }
   ],
   "source": [
    "print(\"Number of words: \")\n",
    "print(len(np.unique(np.hstack(X_train ))))"
   ]
  },
  {
   "cell_type": "code",
   "execution_count": 8,
   "metadata": {
    "collapsed": false
   },
   "outputs": [
    {
     "name": "stdout",
     "output_type": "stream",
     "text": [
      "Review length: \n",
      "Mean 1562.93 words (675.128891)\n"
     ]
    },
    {
     "data": {
      "image/png": "[encoded data removed]",
      "text/plain": [
       "<matplotlib.figure.Figure at 0x5a219b0>"
      ]
     },
     "metadata": {},
     "output_type": "display_data"
    }
   ],
   "source": [
    "from matplotlib import pyplot\n",
    "# Summarize review length\n",
    "print(\"Review length: \")\n",
    "result = map(len, X_train)\n",
    "print(\"Mean %.2f words (%f)\" % (np.mean(result), np.std(result)))\n",
    "# plot review length\n",
    "pyplot.boxplot(result)\n",
    "pyplot.show()"
   ]
  },
  {
   "cell_type": "code",
   "execution_count": 9,
   "metadata": {
    "collapsed": false
   },
   "outputs": [],
   "source": [
    "# Xứ lý tách từ \n",
    "imdbTokenizer = Tokenizer(nb_words=max_features)\n",
    "\n",
    "imdbTokenizer.fit_on_texts(sentence_train)\n",
    "#for word, value in imdbTokenizer.word_index.items():\n",
    "    #print(word),\n"
   ]
  },
  {
   "cell_type": "code",
   "execution_count": 10,
   "metadata": {
    "collapsed": false
   },
   "outputs": [
    {
     "name": "stdout",
     "output_type": "stream",
     "text": [
      "walmart\n",
      "said\n",
      "fell\n"
     ]
    }
   ],
   "source": [
    "#create int to word dictionary\n",
    "intToWord = {}\n",
    "for word, value in imdbTokenizer.word_index.items():\n",
    "    intToWord[value] = word\n",
    "\n",
    "#add a symbol for null placeholder\n",
    "intToWord[0] = \"!!!NA!!!\"\n",
    "    \n",
    "print(intToWord[1])\n",
    "print(intToWord[2])\n",
    "print(intToWord[32])\n"
   ]
  },
  {
   "cell_type": "code",
   "execution_count": 11,
   "metadata": {
    "collapsed": false
   },
   "outputs": [],
   "source": [
    "#convert word strings to integer sequence lists\n",
    "#print(X_train[0])\n",
    "#print(imdbTokenizer.texts_to_sequences(X_train[:1]))\n",
    "#for value in imdbTokenizer.texts_to_sequences(X_train[:1])[0]:\n",
    "    #print(intToWord[value])\n",
    "    \n",
    "X_train = imdbTokenizer.texts_to_sequences(sentence_train)\n",
    "X_test = imdbTokenizer.texts_to_sequences(sentence_test)\n"
   ]
  },
  {
   "cell_type": "code",
   "execution_count": 12,
   "metadata": {
    "collapsed": false
   },
   "outputs": [
    {
     "name": "stdout",
     "output_type": "stream",
     "text": [
      "1484 train sequences\n",
      "741 test sequences\n",
      "Pad sequences (samples x time)\n",
      "X_train shape: (1484L, 500L)\n",
      "X_test shape: (741L, 500L)\n"
     ]
    }
   ],
   "source": [
    "print(len(X_train), 'train sequences')\n",
    "print(len(X_test), 'test sequences')\n",
    "\n",
    "print(\"Pad sequences (samples x time)\")\n",
    "X_train = sequence.pad_sequences(X_train, maxlen=max_len)\n",
    "X_test = sequence.pad_sequences(X_test, maxlen=max_len)\n",
    "print('X_train shape:', X_train.shape)\n",
    "print('X_test shape:', X_test.shape)\n",
    "y_train = np.array(y_train)\n",
    "y_test = np.array(y_test)\n"
   ]
  },
  {
   "cell_type": "code",
   "execution_count": 13,
   "metadata": {
    "collapsed": true
   },
   "outputs": [],
   "source": [
    "epochs = 40\n",
    "embedding_neurons = 128\n",
    "lstm_neurons = 64\n",
    "batch_size =32\n"
   ]
  },
  {
   "cell_type": "code",
   "execution_count": 14,
   "metadata": {
    "collapsed": false
   },
   "outputs": [
    {
     "name": "stdout",
     "output_type": "stream",
     "text": [
      "____________________________________________________________________________________________________\n",
      "Layer (type)                     Output Shape          Param #     Connected to                     \n",
      "====================================================================================================\n",
      "input_1 (InputLayer)             (None, 500)           0                                            \n",
      "____________________________________________________________________________________________________\n",
      "embedding_1 (Embedding)          (None, 500, 128)      128000      input_1[0][0]                    \n",
      "____________________________________________________________________________________________________\n",
      "batchnormalization_1 (BatchNorma (None, 500, 128)      512         embedding_1[0][0]                \n",
      "____________________________________________________________________________________________________\n",
      "gru_1 (GRU)                      (None, 64)            37056       batchnormalization_1[0][0]       \n",
      "____________________________________________________________________________________________________\n",
      "gru_2 (GRU)                      (None, 64)            37056       batchnormalization_1[0][0]       \n",
      "____________________________________________________________________________________________________\n",
      "merge_1 (Merge)                  (None, 128)           0           gru_1[0][0]                      \n",
      "                                                                   gru_2[0][0]                      \n",
      "____________________________________________________________________________________________________\n",
      "dropout_1 (Dropout)              (None, 128)           0           merge_1[0][0]                    \n",
      "____________________________________________________________________________________________________\n",
      "dense_1 (Dense)                  (None, 1)             129         dropout_1[0][0]                  \n",
      "====================================================================================================\n",
      "Total params: 202,753\n",
      "Trainable params: 202,497\n",
      "Non-trainable params: 256\n",
      "____________________________________________________________________________________________________\n",
      "None\n"
     ]
    }
   ],
   "source": [
    "# Bi-directional Atom\n",
    "\n",
    "# based on keras tutorial: https://github.com/fchollet/keras/blob/master/examples/imdb_bidirectional_lstm.py\n",
    "\n",
    "# this is the placeholder tensor for the input sequences\n",
    "sequence = Input(shape=(max_len,), dtype='int32')\n",
    "# this embedding layer will transform the sequences of integers\n",
    "# into vectors of size embedding\n",
    "# embedding layer converts dense int input to one-hot in real time to save memory\n",
    "embedded = Embedding(max_features, embedding_neurons, input_length=max_len)(sequence)\n",
    "# normalize embeddings by input/word in sentence\n",
    "bnorm = BatchNormalization()(embedded)\n",
    "\n",
    "# apply forwards LSTM layer size lstm_neurons\n",
    "forwards = GRU(lstm_neurons, dropout_W=0.4, dropout_U=0.4)(bnorm)\n",
    "# apply backwards LSTM\n",
    "backwards = GRU(lstm_neurons, dropout_W=0.4, dropout_U=0.4, go_backwards=True)(bnorm)\n",
    "\n",
    "# concatenate the outputs of the 2 LSTMs\n",
    "merged = merge([forwards, backwards], mode='concat', concat_axis=-1)\n",
    "after_dp = Dropout(0.5)(merged)\n",
    "output = Dense(1, activation='sigmoid')(after_dp)\n",
    "\n",
    "model_bidir_atom = Model(input=sequence, output=output)\n",
    "# review model structure\n",
    "print(model_bidir_atom.summary())\n"
   ]
  },
  {
   "cell_type": "code",
   "execution_count": 15,
   "metadata": {
    "collapsed": false
   },
   "outputs": [
    {
     "name": "stdout",
     "output_type": "stream",
     "text": [
      "Train...\n",
      "Train on 1484 samples, validate on 741 samples\n",
      "Epoch 1/40\n",
      "126s - loss: 0.7521 - acc: 0.5613 - val_loss: 0.6943 - val_acc: 0.4561\n",
      "Epoch 2/40\n",
      "154s - loss: 0.7093 - acc: 0.5748 - val_loss: 0.6783 - val_acc: 0.5924\n",
      "Epoch 3/40\n",
      "151s - loss: 0.6860 - acc: 0.5997 - val_loss: 0.6930 - val_acc: 0.5169\n",
      "Epoch 4/40\n",
      "147s - loss: 0.6677 - acc: 0.6166 - val_loss: 0.6800 - val_acc: 0.5938\n",
      "Epoch 5/40\n",
      "137s - loss: 0.6358 - acc: 0.6476 - val_loss: 0.6779 - val_acc: 0.5951\n",
      "Epoch 6/40\n",
      "137s - loss: 0.6121 - acc: 0.6557 - val_loss: 0.6771 - val_acc: 0.5924\n",
      "Epoch 7/40\n",
      "150s - loss: 0.5793 - acc: 0.7008 - val_loss: 0.6874 - val_acc: 0.5924\n",
      "Epoch 8/40\n",
      "146s - loss: 0.5270 - acc: 0.7385 - val_loss: 0.7373 - val_acc: 0.5843\n",
      "Epoch 9/40\n",
      "140s - loss: 0.4997 - acc: 0.7601 - val_loss: 0.8539 - val_acc: 0.5830\n",
      "Epoch 10/40\n",
      "139s - loss: 0.4722 - acc: 0.7823 - val_loss: 0.9145 - val_acc: 0.5709\n",
      "Epoch 11/40\n",
      "142s - loss: 0.4518 - acc: 0.8019 - val_loss: 1.0204 - val_acc: 0.5655\n",
      "Epoch 12/40\n",
      "146s - loss: 0.4205 - acc: 0.8080 - val_loss: 1.0584 - val_acc: 0.5331\n",
      "Epoch 13/40\n",
      "149s - loss: 0.3892 - acc: 0.8322 - val_loss: 1.1614 - val_acc: 0.5385\n",
      "Epoch 14/40\n",
      "145s - loss: 0.3494 - acc: 0.8565 - val_loss: 1.3049 - val_acc: 0.5371\n",
      "Epoch 15/40\n",
      "151s - loss: 0.3128 - acc: 0.8598 - val_loss: 1.3623 - val_acc: 0.5331\n",
      "Epoch 16/40\n",
      "139s - loss: 0.3190 - acc: 0.8639 - val_loss: 1.3924 - val_acc: 0.5358\n",
      "Epoch 17/40\n",
      "144s - loss: 0.2982 - acc: 0.8794 - val_loss: 1.3960 - val_acc: 0.5223\n",
      "Epoch 18/40\n",
      "145s - loss: 0.2910 - acc: 0.8787 - val_loss: 1.4460 - val_acc: 0.5223\n",
      "Epoch 19/40\n",
      "146s - loss: 0.2951 - acc: 0.8827 - val_loss: 1.4625 - val_acc: 0.5358\n",
      "Epoch 20/40\n",
      "147s - loss: 0.3013 - acc: 0.8841 - val_loss: 1.4677 - val_acc: 0.5290\n",
      "Epoch 21/40\n",
      "140s - loss: 0.2443 - acc: 0.8982 - val_loss: 1.5635 - val_acc: 0.5223\n",
      "Epoch 22/40\n",
      "135s - loss: 0.2295 - acc: 0.9090 - val_loss: 1.6310 - val_acc: 0.5209\n",
      "Epoch 23/40\n",
      "136s - loss: 0.2372 - acc: 0.9023 - val_loss: 1.6636 - val_acc: 0.5304\n",
      "Epoch 24/40\n",
      "138s - loss: 0.2078 - acc: 0.9171 - val_loss: 1.7334 - val_acc: 0.5304\n",
      "Epoch 25/40\n",
      "137s - loss: 0.2062 - acc: 0.9212 - val_loss: 1.7790 - val_acc: 0.5304\n",
      "Epoch 26/40\n",
      "131s - loss: 0.2143 - acc: 0.9218 - val_loss: 1.8089 - val_acc: 0.5277\n",
      "Epoch 27/40\n",
      "126s - loss: 0.2050 - acc: 0.9158 - val_loss: 1.7844 - val_acc: 0.5331\n",
      "Epoch 28/40\n",
      "130s - loss: 0.1986 - acc: 0.9272 - val_loss: 1.7721 - val_acc: 0.5331\n",
      "Epoch 29/40\n",
      "122s - loss: 0.1889 - acc: 0.9319 - val_loss: 1.7798 - val_acc: 0.5277\n",
      "Epoch 30/40\n",
      "121s - loss: 0.1841 - acc: 0.9252 - val_loss: 1.8272 - val_acc: 0.5412\n",
      "Epoch 31/40\n",
      "99s - loss: 0.1850 - acc: 0.9340 - val_loss: 1.8683 - val_acc: 0.5304\n",
      "Epoch 32/40\n",
      "95s - loss: 0.1635 - acc: 0.9373 - val_loss: 1.9314 - val_acc: 0.5358\n",
      "Epoch 33/40\n",
      "106s - loss: 0.1607 - acc: 0.9420 - val_loss: 1.9407 - val_acc: 0.5358\n",
      "Epoch 34/40\n",
      "107s - loss: 0.1665 - acc: 0.9414 - val_loss: 1.9641 - val_acc: 0.5452\n",
      "Epoch 35/40\n",
      "100s - loss: 0.1486 - acc: 0.9400 - val_loss: 2.0374 - val_acc: 0.5398\n",
      "Epoch 36/40\n",
      "94s - loss: 0.1621 - acc: 0.9380 - val_loss: 2.0001 - val_acc: 0.5331\n",
      "Epoch 37/40\n",
      "101s - loss: 0.1476 - acc: 0.9454 - val_loss: 2.0580 - val_acc: 0.5385\n",
      "Epoch 38/40\n",
      "104s - loss: 0.1295 - acc: 0.9501 - val_loss: 2.1605 - val_acc: 0.5250\n",
      "Epoch 39/40\n",
      "96s - loss: 0.1495 - acc: 0.9454 - val_loss: 2.1936 - val_acc: 0.5344\n",
      "Epoch 40/40\n",
      "93s - loss: 0.1361 - acc: 0.9414 - val_loss: 2.1960 - val_acc: 0.5331\n",
      "avg sec per epoch: 131.054675001\n"
     ]
    },
    {
     "ename": "NameError",
     "evalue": "name 'model_fdir_atom' is not defined",
     "output_type": "error",
     "traceback": [
      "\u001b[0;31m---------------------------------------------------------------------------\u001b[0m",
      "\u001b[0;31mNameError\u001b[0m                                 Traceback (most recent call last)",
      "\u001b[0;32m<ipython-input-15-490a4e33ec2e>\u001b[0m in \u001b[0;36m<module>\u001b[0;34m()\u001b[0m\n\u001b[1;32m     16\u001b[0m \u001b[0maverage_time_per_epoch\u001b[0m \u001b[1;33m=\u001b[0m \u001b[1;33m(\u001b[0m\u001b[0mend_time\u001b[0m \u001b[1;33m-\u001b[0m \u001b[0mstart_time\u001b[0m\u001b[1;33m)\u001b[0m \u001b[1;33m/\u001b[0m \u001b[0mepochs\u001b[0m\u001b[1;33m\u001b[0m\u001b[0m\n\u001b[1;32m     17\u001b[0m \u001b[1;32mprint\u001b[0m\u001b[1;33m(\u001b[0m\u001b[1;34m\"avg sec per epoch:\"\u001b[0m\u001b[1;33m,\u001b[0m \u001b[0maverage_time_per_epoch\u001b[0m\u001b[1;33m)\u001b[0m\u001b[1;33m\u001b[0m\u001b[0m\n\u001b[0;32m---> 18\u001b[0;31m \u001b[0mscores\u001b[0m \u001b[1;33m=\u001b[0m \u001b[0mmodel_fdir_atom\u001b[0m\u001b[1;33m.\u001b[0m\u001b[0mevaluate\u001b[0m\u001b[1;33m(\u001b[0m\u001b[0mX_test\u001b[0m\u001b[1;33m,\u001b[0m \u001b[0my_test\u001b[0m\u001b[1;33m,\u001b[0m \u001b[0mverbose\u001b[0m\u001b[1;33m=\u001b[0m\u001b[1;36m0\u001b[0m\u001b[1;33m)\u001b[0m\u001b[1;33m\u001b[0m\u001b[0m\n\u001b[0m\u001b[1;32m     19\u001b[0m \u001b[1;32mprint\u001b[0m\u001b[1;33m(\u001b[0m\u001b[1;34m\"Accuracy: %.2f%%\"\u001b[0m \u001b[1;33m%\u001b[0m \u001b[1;33m(\u001b[0m\u001b[0mscores\u001b[0m\u001b[1;33m[\u001b[0m\u001b[1;36m1\u001b[0m\u001b[1;33m]\u001b[0m\u001b[1;33m*\u001b[0m\u001b[1;36m100\u001b[0m\u001b[1;33m)\u001b[0m\u001b[1;33m)\u001b[0m\u001b[1;33m\u001b[0m\u001b[0m\n\u001b[1;32m     20\u001b[0m \u001b[1;33m\u001b[0m\u001b[0m\n",
      "\u001b[0;31mNameError\u001b[0m: name 'model_fdir_atom' is not defined"
     ]
    }
   ],
   "source": [
    "# Bi-directional Atom\n",
    "\n",
    "# try using different optimizers and different optimizer configs\n",
    "model_bidir_atom.compile('rmsprop', 'binary_crossentropy', metrics=['accuracy'])\n",
    "\n",
    "print('Train...')\n",
    "start_time = time.time()\n",
    "\n",
    "history_bidir_atom = model_bidir_atom.fit(X_train, y_train,\n",
    "                    batch_size=batch_size,\n",
    "                    nb_epoch=epochs,\n",
    "                    validation_data=[X_test, y_test], \n",
    "                    verbose=2)\n",
    "\n",
    "end_time = time.time()\n",
    "average_time_per_epoch = (end_time - start_time) / epochs\n",
    "print(\"avg sec per epoch:\", average_time_per_epoch)\n",
    "\n",
    "\n"
   ]
  },
  {
   "cell_type": "code",
   "execution_count": 17,
   "metadata": {
    "collapsed": false
   },
   "outputs": [
    {
     "name": "stdout",
     "output_type": "stream",
     "text": [
      "Accuracy: 53.31%\n",
      "['acc', 'loss', 'val_acc', 'val_loss']\n"
     ]
    }
   ],
   "source": [
    "scores = model_bidir_atom.evaluate(X_test, y_test, verbose=0)\n",
    "print(\"Accuracy: %.2f%%\" % (scores[1]*100))\n",
    "\n",
    "import matplotlib.pyplot as plt\n",
    "print(history_bidir_atom.history.keys())"
   ]
  },
  {
   "cell_type": "code",
   "execution_count": 27,
   "metadata": {
    "collapsed": false
   },
   "outputs": [
    {
     "data": {
      "image/png": "[encoded data removed]",
      "text/plain": [
       "<matplotlib.figure.Figure at 0x2a6f2358>"
      ]
     },
     "metadata": {},
     "output_type": "display_data"
    },
    {
     "data": {
      "image/png": "[encoded data removed]",
      "text/plain": [
       "<matplotlib.figure.Figure at 0x2a953dd8>"
      ]
     },
     "metadata": {},
     "output_type": "display_data"
    }
   ],
   "source": [
    "# summarize history for accuracy\n",
    "plt.plot(history_bidir_atom.history['acc'])\n",
    "plt.plot(history_bidir_atom.history['val_acc'])\n",
    "plt.title('Accuracy:Model BGRU_DropOut')\n",
    "plt.ylabel('accuracy')\n",
    "plt.xlabel('epoch')\n",
    "plt.legend(['train', 'test'], loc='upper left')\n",
    "plt.show()\n",
    "# summarize history for loss\n",
    "plt.plot(history_bidir_atom.history['loss'])\n",
    "plt.plot(history_bidir_atom.history['val_loss'])\n",
    "plt.title('Loss:Model BGRU_DropOut')\n",
    "plt.ylabel('loss')\n",
    "plt.xlabel('epoch')\n",
    "plt.legend(['train', 'test'], loc='upper left')\n",
    "plt.show()"
   ]
  },
  {
   "cell_type": "code",
   "execution_count": 22,
   "metadata": {
    "collapsed": false
   },
   "outputs": [
    {
     "name": "stdout",
     "output_type": "stream",
     "text": [
      "____________________________________________________________________________________________________\n",
      "Layer (type)                     Output Shape          Param #     Connected to                     \n",
      "====================================================================================================\n",
      "input_3 (InputLayer)             (None, 500)           0                                            \n",
      "____________________________________________________________________________________________________\n",
      "embedding_3 (Embedding)          (None, 500, 128)      128000      input_3[0][0]                    \n",
      "____________________________________________________________________________________________________\n",
      "batchnormalization_3 (BatchNorma (None, 500, 128)      512         embedding_3[0][0]                \n",
      "____________________________________________________________________________________________________\n",
      "gru_5 (GRU)                      (None, 64)            37056       batchnormalization_3[0][0]       \n",
      "____________________________________________________________________________________________________\n",
      "gru_6 (GRU)                      (None, 64)            37056       batchnormalization_3[0][0]       \n",
      "____________________________________________________________________________________________________\n",
      "merge_3 (Merge)                  (None, 128)           0           gru_5[0][0]                      \n",
      "                                                                   gru_6[0][0]                      \n",
      "____________________________________________________________________________________________________\n",
      "dropout_3 (Dropout)              (None, 128)           0           merge_3[0][0]                    \n",
      "____________________________________________________________________________________________________\n",
      "dense_3 (Dense)                  (None, 1)             129         dropout_3[0][0]                  \n",
      "====================================================================================================\n",
      "Total params: 202,753\n",
      "Trainable params: 202,497\n",
      "Non-trainable params: 256\n",
      "____________________________________________________________________________________________________\n",
      "None\n"
     ]
    }
   ],
   "source": [
    "# Bi-directional Atom\n",
    "\n",
    "# based on keras tutorial: https://github.com/fchollet/keras/blob/master/examples/imdb_bidirectional_lstm.py\n",
    "\n",
    "# this is the placeholder tensor for the input sequences\n",
    "sequence = Input(shape=(max_len,), dtype='int32')\n",
    "# this embedding layer will transform the sequences of integers\n",
    "# into vectors of size embedding\n",
    "# embedding layer converts dense int input to one-hot in real time to save memory\n",
    "embedded = Embedding(max_features, embedding_neurons, input_length=max_len)(sequence)\n",
    "# normalize embeddings by input/word in sentence\n",
    "bnorm = BatchNormalization()(embedded)\n",
    "\n",
    "# apply forwards LSTM layer size lstm_neurons\n",
    "forwards = GRU(lstm_neurons, dropout_W=0, dropout_U=0)(bnorm)\n",
    "# apply backwards LSTM\n",
    "backwards = GRU(lstm_neurons, dropout_W=0, dropout_U=0, go_backwards=True)(bnorm)\n",
    "\n",
    "# concatenate the outputs of the 2 LSTMs\n",
    "merged = merge([forwards, backwards], mode='concat', concat_axis=-1)\n",
    "after_dp = Dropout(0)(merged)\n",
    "output = Dense(1, activation='sigmoid')(after_dp)\n",
    "\n",
    "model_bidir_atom_none_dropout = Model(input=sequence, output=output)\n",
    "# review model structure\n",
    "print(model_bidir_atom_none_dropout.summary())"
   ]
  },
  {
   "cell_type": "code",
   "execution_count": 23,
   "metadata": {
    "collapsed": false
   },
   "outputs": [
    {
     "name": "stdout",
     "output_type": "stream",
     "text": [
      "Train...\n",
      "Train on 1484 samples, validate on 741 samples\n",
      "Epoch 1/40\n",
      "85s - loss: 0.7184 - acc: 0.5708 - val_loss: 0.6959 - val_acc: 0.4359\n",
      "Epoch 2/40\n",
      "86s - loss: 0.5947 - acc: 0.6860 - val_loss: 0.6931 - val_acc: 0.5007\n",
      "Epoch 3/40\n",
      "91s - loss: 0.4646 - acc: 0.7931 - val_loss: 0.7079 - val_acc: 0.4265\n",
      "Epoch 4/40\n",
      "87s - loss: 0.3286 - acc: 0.8794 - val_loss: 0.7039 - val_acc: 0.4642\n",
      "Epoch 5/40\n",
      "89s - loss: 0.2159 - acc: 0.9252 - val_loss: 0.7555 - val_acc: 0.4440\n",
      "Epoch 6/40\n",
      "90s - loss: 0.1496 - acc: 0.9441 - val_loss: 0.7377 - val_acc: 0.5115\n",
      "Epoch 7/40\n",
      "87s - loss: 0.1323 - acc: 0.9441 - val_loss: 0.8461 - val_acc: 0.4669\n",
      "Epoch 8/40\n",
      "93s - loss: 0.1147 - acc: 0.9495 - val_loss: 0.9698 - val_acc: 0.4480\n",
      "Epoch 9/40\n",
      "91s - loss: 0.1036 - acc: 0.9528 - val_loss: 0.9919 - val_acc: 0.4831\n",
      "Epoch 10/40\n",
      "87s - loss: 0.0985 - acc: 0.9501 - val_loss: 1.1568 - val_acc: 0.4899\n",
      "Epoch 11/40\n",
      "95s - loss: 0.0893 - acc: 0.9555 - val_loss: 1.3309 - val_acc: 0.4980\n",
      "Epoch 12/40\n",
      "91s - loss: 0.0869 - acc: 0.9569 - val_loss: 1.4230 - val_acc: 0.4953\n",
      "Epoch 13/40\n",
      "93s - loss: 0.0819 - acc: 0.9528 - val_loss: 1.5468 - val_acc: 0.5088\n",
      "Epoch 14/40\n",
      "94s - loss: 0.0790 - acc: 0.9549 - val_loss: 1.6980 - val_acc: 0.5263\n",
      "Epoch 15/40\n",
      "93s - loss: 0.0775 - acc: 0.9609 - val_loss: 1.6811 - val_acc: 0.5277\n",
      "Epoch 16/40\n",
      "94s - loss: 0.0737 - acc: 0.9549 - val_loss: 1.6865 - val_acc: 0.5371\n",
      "Epoch 17/40\n",
      "92s - loss: 0.0694 - acc: 0.9569 - val_loss: 1.8481 - val_acc: 0.5196\n",
      "Epoch 18/40\n",
      "92s - loss: 0.0693 - acc: 0.9589 - val_loss: 1.7846 - val_acc: 0.5439\n",
      "Epoch 19/40\n",
      "111s - loss: 0.0680 - acc: 0.9549 - val_loss: 1.8486 - val_acc: 0.5547\n",
      "Epoch 20/40\n",
      "112s - loss: 0.0652 - acc: 0.9549 - val_loss: 1.8205 - val_acc: 0.5520\n",
      "Epoch 21/40\n",
      "111s - loss: 0.0661 - acc: 0.9528 - val_loss: 1.8209 - val_acc: 0.5317\n",
      "Epoch 22/40\n",
      "89s - loss: 0.0596 - acc: 0.9636 - val_loss: 1.8638 - val_acc: 0.5263\n",
      "Epoch 23/40\n",
      "87s - loss: 0.0635 - acc: 0.9542 - val_loss: 1.8656 - val_acc: 0.5385\n",
      "Epoch 24/40\n",
      "88s - loss: 0.0621 - acc: 0.9555 - val_loss: 1.8154 - val_acc: 0.5466\n",
      "Epoch 25/40\n",
      "93s - loss: 0.0610 - acc: 0.9555 - val_loss: 1.8812 - val_acc: 0.5479\n",
      "Epoch 26/40\n",
      "99s - loss: 0.0584 - acc: 0.9562 - val_loss: 1.9371 - val_acc: 0.5479\n",
      "Epoch 27/40\n",
      "99s - loss: 0.0602 - acc: 0.9549 - val_loss: 1.9478 - val_acc: 0.5439\n",
      "Epoch 28/40\n",
      "96s - loss: 0.0609 - acc: 0.9575 - val_loss: 1.9726 - val_acc: 0.5412\n",
      "Epoch 29/40\n",
      "86s - loss: 0.0587 - acc: 0.9596 - val_loss: 1.8446 - val_acc: 0.5344\n",
      "Epoch 30/40\n",
      "83s - loss: 0.0569 - acc: 0.9582 - val_loss: 1.8907 - val_acc: 0.5263\n",
      "Epoch 31/40\n",
      "82s - loss: 0.0567 - acc: 0.9596 - val_loss: 1.9439 - val_acc: 0.5520\n",
      "Epoch 32/40\n",
      "80s - loss: 0.0563 - acc: 0.9555 - val_loss: 2.0096 - val_acc: 0.5493\n",
      "Epoch 33/40\n",
      "75s - loss: 0.0556 - acc: 0.9542 - val_loss: 1.9747 - val_acc: 0.5398\n",
      "Epoch 34/40\n",
      "78s - loss: 0.0575 - acc: 0.9582 - val_loss: 1.8950 - val_acc: 0.5425\n",
      "Epoch 35/40\n",
      "77s - loss: 0.0528 - acc: 0.9569 - val_loss: 1.9908 - val_acc: 0.5371\n",
      "Epoch 36/40\n",
      "72s - loss: 0.0531 - acc: 0.9582 - val_loss: 2.1434 - val_acc: 0.5371\n",
      "Epoch 37/40\n",
      "75s - loss: 0.0572 - acc: 0.9629 - val_loss: 1.9391 - val_acc: 0.5682\n",
      "Epoch 38/40\n",
      "72s - loss: 0.0570 - acc: 0.9582 - val_loss: 2.0840 - val_acc: 0.5358\n",
      "Epoch 39/40\n",
      "73s - loss: 0.0498 - acc: 0.9596 - val_loss: 2.0818 - val_acc: 0.5317\n",
      "Epoch 40/40\n",
      "70s - loss: 0.0512 - acc: 0.9616 - val_loss: 2.1205 - val_acc: 0.5277\n",
      "avg sec per epoch: 89.3053499997\n",
      "Accuracy: 52.77%\n",
      "['acc', 'loss', 'val_acc', 'val_loss']\n"
     ]
    }
   ],
   "source": [
    "# try using different optimizers and different optimizer configs\n",
    "model_bidir_atom_none_dropout.compile('rmsprop', 'binary_crossentropy', metrics=['accuracy'])\n",
    "\n",
    "print('Train...')\n",
    "start_time = time.time()\n",
    "\n",
    "history_bidir_none_dropou = model_bidir_atom_none_dropout.fit(X_train, y_train,\n",
    "                    batch_size=batch_size,\n",
    "                    nb_epoch=epochs,\n",
    "                    validation_data=[X_test, y_test], \n",
    "                    verbose=2)\n",
    "\n",
    "end_time = time.time()\n",
    "average_time_per_epoch = (end_time - start_time) / epochs\n",
    "print(\"avg sec per epoch:\", average_time_per_epoch)\n",
    "scores = model_bidir_atom_none_dropout.evaluate(X_test, y_test, verbose=0)\n",
    "print(\"Accuracy: %.2f%%\" % (scores[1]*100))\n",
    "\n",
    "import matplotlib.pyplot as plt\n",
    "print(history_bidir_none_dropou.history.keys())"
   ]
  },
  {
   "cell_type": "code",
   "execution_count": 26,
   "metadata": {
    "collapsed": false
   },
   "outputs": [
    {
     "data": {
      "image/png": "[encoded data removed]",
      "text/plain": [
       "<matplotlib.figure.Figure at 0x2a209cc0>"
      ]
     },
     "metadata": {},
     "output_type": "display_data"
    },
    {
     "data": {
      "image/png": "[encoded data removed]",
      "text/plain": [
       "<matplotlib.figure.Figure at 0x2a4ac400>"
      ]
     },
     "metadata": {},
     "output_type": "display_data"
    }
   ],
   "source": [
    "# summarize history for accuracy\n",
    "plt.plot(history_bidir_none_dropou.history['acc'])\n",
    "plt.plot(history_bidir_none_dropou.history['val_acc'])\n",
    "plt.title('Model BGRU_None_Dropout')\n",
    "plt.ylabel('Accuracy')\n",
    "plt.xlabel('epoch')\n",
    "plt.legend(['train', 'test'], loc='upper left')\n",
    "plt.show()\n",
    "# summarize history for loss\n",
    "plt.plot(history_bidir_none_dropou.history['loss'])\n",
    "plt.plot(history_bidir_none_dropou.history['val_loss'])\n",
    "plt.title('Model BGRU_None_Dropout loss measure')\n",
    "plt.ylabel('loss')\n",
    "plt.xlabel('epoch')\n",
    "plt.legend(['train', 'test'], loc='upper left')\n",
    "plt.show()"
   ]
  },
  {
   "cell_type": "code",
   "execution_count": 31,
   "metadata": {
    "collapsed": false
   },
   "outputs": [
    {
     "data": {
      "image/png": "[encoded data removed]",
      "text/plain": [
       "<matplotlib.figure.Figure at 0x2902e978>"
      ]
     },
     "metadata": {},
     "output_type": "display_data"
    },
    {
     "data": {
      "image/png": "[encoded data removed]",
      "text/plain": [
       "<matplotlib.figure.Figure at 0x27962f28>"
      ]
     },
     "metadata": {},
     "output_type": "display_data"
    }
   ],
   "source": [
    "# summarize history for accuracy\n",
    "plt.plot(history_bidir_atom.history['acc'])\n",
    "plt.plot(history_bidir_none_dropou.history['acc'])\n",
    "plt.title('Model BGRU')\n",
    "plt.ylabel('Accuracy')\n",
    "plt.xlabel('Epoch')\n",
    "plt.legend(['Dropout', 'None DropOut'], loc='upper left')\n",
    "plt.show()\n",
    "\n",
    "# summarize history for accuracy\n",
    "plt.plot(history_bidir_atom.history['loss'])\n",
    "plt.plot(history_bidir_none_dropou.history['loss'])\n",
    "plt.title('Model BGRU')\n",
    "plt.ylabel('Loss')\n",
    "plt.xlabel('Epoch')\n",
    "plt.legend(['Dropout', 'None DropOut'], loc='upper left')\n",
    "plt.show()"
   ]
  },
  {
   "cell_type": "code",
   "execution_count": null,
   "metadata": {
    "collapsed": true
   },
   "outputs": [],
   "source": []
  }
 ],
 "metadata": {
  "kernelspec": {
   "display_name": "Python 2",
   "language": "python",
   "name": "python2"
  },
  "language_info": {
   "codemirror_mode": {
    "name": "ipython",
    "version": 2
   },
   "file_extension": ".py",
   "mimetype": "text/x-python",
   "name": "python",
   "nbconvert_exporter": "python",
   "pygments_lexer": "ipython2",
   "version": "2.7.13"
  }
 },
 "nbformat": 4,
 "nbformat_minor": 2
}
