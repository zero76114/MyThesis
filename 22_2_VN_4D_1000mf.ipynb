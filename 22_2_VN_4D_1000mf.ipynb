{
 "cells": [
  {
   "cell_type": "code",
   "execution_count": 1,
   "metadata": {
    "collapsed": false
   },
   "outputs": [
    {
     "name": "stderr",
     "output_type": "stream",
     "text": [
      "Using Theano backend.\n"
     ]
    }
   ],
   "source": [
    "##Khai báo các thư viện\n",
    "from __future__ import print_function\n",
    "import time\n",
    "import numpy as np\n",
    "np.random.seed(1337)  # for reproducibility\n",
    "\n",
    "from keras.preprocessing import sequence\n",
    "from keras.models import Model, Sequential\n",
    "from keras.layers import Dense, Dropout, Embedding, LSTM, Input, merge, BatchNormalization,GRU\n",
    "from keras.datasets import imdb\n",
    "\n",
    "import os\n",
    "from keras.preprocessing.text import Tokenizer\n"
   ]
  },
  {
   "cell_type": "code",
   "execution_count": 2,
   "metadata": {
    "collapsed": true
   },
   "outputs": [],
   "source": [
    "## Gán nhãn cho dữ liệu train\n",
    "X_train = []\n",
    "y_train = []\n",
    "\n",
    "path = 'C:/VS_4D/out/train/pos/'\n",
    "X_train.extend([open(path + f).read() for f in os.listdir(path) if f.endswith('.txt')])\n",
    "\n",
    "y_train.extend([1 for _ in range(663)])\n",
    "\n",
    "path = 'C:/VS_4D/out/train/neg/'\n",
    "X_train.extend([open(path + f).read() for f in os.listdir(path) if f.endswith('.txt')])\n",
    "\n",
    "y_train.extend([0 for _ in range(238)])\n"
   ]
  },
  {
   "cell_type": "code",
   "execution_count": 3,
   "metadata": {
    "collapsed": true
   },
   "outputs": [],
   "source": [
    "##Gán nhãn cho dữ liệu test\n",
    "X_test = []\n",
    "y_test = []\n",
    "\n",
    "path = 'C:/VS_4D/out/test/pos/'\n",
    "X_test.extend([open(path + f).read() for f in os.listdir(path) if f.endswith('.txt')])\n",
    "y_test.extend([1 for _ in range(298)])\n",
    "\n",
    "path = 'C:/VS_4D/out/test/neg/'\n",
    "X_test.extend([open(path + f).read() for f in os.listdir(path) if f.endswith('.txt')])\n",
    "y_test.extend([0 for _ in range(88)])\n"
   ]
  },
  {
   "cell_type": "code",
   "execution_count": 4,
   "metadata": {
    "collapsed": true
   },
   "outputs": [],
   "source": [
    "## Khai báo tham số đặc trưng và chiều dài câu\n",
    "max_features =900\n",
    "max_len = 2000  # cut texts after this number of words (among top max_features most common words)"
   ]
  },
  {
   "cell_type": "code",
   "execution_count": 5,
   "metadata": {
    "collapsed": false
   },
   "outputs": [],
   "source": [
    "## Xử lý remove stop words cho dữ liệu train\n",
    "from nltk.corpus import stopwords\n",
    "from nltk.tokenize import word_tokenize\n",
    "\n",
    "X_train_rm= []\n",
    "stop_words=set(stopwords.words(\"vietnamese\"))\n",
    "for x in X_train:\n",
    "    words=word_tokenize(x)\n",
    "    remove_sw= [w for w in words if not unicode(w,\"utf8\") in stop_words]\n",
    "    X_train_rm.append(remove_sw),\n",
    "sentence_train=[] \n",
    "for i in range(len(X_train_rm)):\n",
    "    s = \"\"\n",
    "    for j in range(len(X_train_rm[i])):\n",
    "        s+=X_train_rm[i][j]+\" \"\n",
    "    sentence_train.append(s),\n"
   ]
  },
  {
   "cell_type": "code",
   "execution_count": 6,
   "metadata": {
    "collapsed": false
   },
   "outputs": [],
   "source": [
    "## Xử lý remove stop words cho dữ liệu test\n",
    "X_test_rm= []\n",
    "stop_words=set(stopwords.words(\"vietnamese\"))\n",
    "for x in X_test:\n",
    "    words=word_tokenize(x)\n",
    "    remove_sw= [w for w in words if not unicode(w,\"utf8\") in stop_words]\n",
    "\n",
    "    X_test_rm.append(remove_sw),\n",
    "sentence_test=[] \n",
    "for i in range(len(X_test_rm)):\n",
    "    s = \"\"\n",
    "    for j in range(len(X_test_rm[i])):\n",
    "        s+=X_test_rm[i][j]+\" \"\n",
    "    sentence_test.append(s),\n"
   ]
  },
  {
   "cell_type": "code",
   "execution_count": 7,
   "metadata": {
    "collapsed": false
   },
   "outputs": [
    {
     "name": "stdout",
     "output_type": "stream",
     "text": [
      "Number of words: \n",
      "899\n"
     ]
    }
   ],
   "source": [
    "print(\"Number of words: \")\n",
    "print(len(np.unique(np.hstack(X_train ))))"
   ]
  },
  {
   "cell_type": "code",
   "execution_count": 8,
   "metadata": {
    "collapsed": false
   },
   "outputs": [
    {
     "name": "stdout",
     "output_type": "stream",
     "text": [
      "Review length: \n",
      "Mean 6096.90 words (4040.412157)\n"
     ]
    },
    {
     "data": {
      "image/png": "[encoded data removed]",
      "text/plain": [
       "<matplotlib.figure.Figure at 0x109525f8>"
      ]
     },
     "metadata": {},
     "output_type": "display_data"
    }
   ],
   "source": [
    "from matplotlib import pyplot\n",
    "# Summarize review length\n",
    "print(\"Review length: \")\n",
    "result = map(len, X_train)\n",
    "print(\"Mean %.2f words (%f)\" % (np.mean(result), np.std(result)))\n",
    "# plot review length\n",
    "pyplot.boxplot(result)\n",
    "pyplot.show()"
   ]
  },
  {
   "cell_type": "code",
   "execution_count": 9,
   "metadata": {
    "collapsed": false
   },
   "outputs": [],
   "source": [
    "# Xứ lý tách từ \n",
    "imdbTokenizer = Tokenizer(nb_words=max_features)\n",
    "\n",
    "imdbTokenizer.fit_on_texts(sentence_train)\n",
    "#for word, value in imdbTokenizer.word_index.items():\n",
    "    #print(word),\n"
   ]
  },
  {
   "cell_type": "code",
   "execution_count": 10,
   "metadata": {
    "collapsed": false
   },
   "outputs": [
    {
     "name": "stdout",
     "output_type": "stream",
     "text": [
      "đồng\n",
      "năm\n",
      "vốn\n"
     ]
    }
   ],
   "source": [
    "#create int to word dictionary\n",
    "intToWord = {}\n",
    "for word, value in imdbTokenizer.word_index.items():\n",
    "    intToWord[value] = word\n",
    "\n",
    "#add a symbol for null placeholder\n",
    "intToWord[0] = \"!!!NA!!!\"\n",
    "    \n",
    "print(intToWord[1])\n",
    "print(intToWord[2])\n",
    "print(intToWord[32])\n"
   ]
  },
  {
   "cell_type": "code",
   "execution_count": 11,
   "metadata": {
    "collapsed": false
   },
   "outputs": [],
   "source": [
    "#convert word strings to integer sequence lists\n",
    "#print(X_train[0])\n",
    "#print(imdbTokenizer.texts_to_sequences(X_train[:1]))\n",
    "#for value in imdbTokenizer.texts_to_sequences(X_train[:1])[0]:\n",
    "    #print(intToWord[value])\n",
    "    \n",
    "X_train = imdbTokenizer.texts_to_sequences(sentence_train)\n",
    "X_test = imdbTokenizer.texts_to_sequences(sentence_test)\n"
   ]
  },
  {
   "cell_type": "code",
   "execution_count": 12,
   "metadata": {
    "collapsed": false
   },
   "outputs": [
    {
     "name": "stdout",
     "output_type": "stream",
     "text": [
      "901 train sequences\n",
      "386 test sequences\n",
      "Pad sequences (samples x time)\n",
      "X_train shape: (901L, 2000L)\n",
      "X_test shape: (386L, 2000L)\n"
     ]
    }
   ],
   "source": [
    "print(len(X_train), 'train sequences')\n",
    "print(len(X_test), 'test sequences')\n",
    "\n",
    "print(\"Pad sequences (samples x time)\")\n",
    "X_train = sequence.pad_sequences(X_train, maxlen=max_len)\n",
    "X_test = sequence.pad_sequences(X_test, maxlen=max_len)\n",
    "print('X_train shape:', X_train.shape)\n",
    "print('X_test shape:', X_test.shape)\n",
    "y_train = np.array(y_train)\n",
    "y_test = np.array(y_test)\n"
   ]
  },
  {
   "cell_type": "code",
   "execution_count": 13,
   "metadata": {
    "collapsed": true
   },
   "outputs": [],
   "source": [
    "epochs = 10\n",
    "embedding_neurons = 128\n",
    "lstm_neurons = 64\n",
    "batch_size =32\n"
   ]
  },
  {
   "cell_type": "code",
   "execution_count": 14,
   "metadata": {
    "collapsed": false
   },
   "outputs": [
    {
     "name": "stdout",
     "output_type": "stream",
     "text": [
      "____________________________________________________________________________________________________\n",
      "Layer (type)                     Output Shape          Param #     Connected to                     \n",
      "====================================================================================================\n",
      "input_1 (InputLayer)             (None, 2000)          0                                            \n",
      "____________________________________________________________________________________________________\n",
      "embedding_1 (Embedding)          (None, 2000, 128)     115200      input_1[0][0]                    \n",
      "____________________________________________________________________________________________________\n",
      "batchnormalization_1 (BatchNorma (None, 2000, 128)     512         embedding_1[0][0]                \n",
      "____________________________________________________________________________________________________\n",
      "gru_1 (GRU)                      (None, 64)            37056       batchnormalization_1[0][0]       \n",
      "____________________________________________________________________________________________________\n",
      "dropout_1 (Dropout)              (None, 64)            0           gru_1[0][0]                      \n",
      "____________________________________________________________________________________________________\n",
      "dense_1 (Dense)                  (None, 1)             65          dropout_1[0][0]                  \n",
      "====================================================================================================\n",
      "Total params: 152,833\n",
      "Trainable params: 152,577\n",
      "Non-trainable params: 256\n",
      "____________________________________________________________________________________________________\n",
      "None\n"
     ]
    }
   ],
   "source": [
    "# Forward Pass LSTM Network\n",
    "\n",
    "# this is the placeholder tensor for the input sequences\n",
    "sequence = Input(shape=(max_len,), dtype='int32')\n",
    "# this embedding layer will transform the sequences of integers\n",
    "# into vectors of size embedding\n",
    "# embedding layer converts dense int input to one-hot in real time to save memory\n",
    "embedded = Embedding(max_features, embedding_neurons, input_length=max_len)(sequence)\n",
    "# normalize embeddings by input/word in sentence\n",
    "bnorm = BatchNormalization()(embedded)\n",
    "\n",
    "# apply forwards LSTM layer size lstm_neurons\n",
    "forwards = GRU(lstm_neurons, dropout_W=0.4, dropout_U=0.4)(bnorm)\n",
    "\n",
    "# dropout \n",
    "after_dp = Dropout(0.5)(forwards)\n",
    "output = Dense(1, activation='sigmoid')(after_dp)\n",
    "\n",
    "model_fdir_atom = Model(input=sequence, output=output)\n",
    "# review model structure\n",
    "print(model_fdir_atom.summary())\n"
   ]
  },
  {
   "cell_type": "code",
   "execution_count": 15,
   "metadata": {
    "collapsed": false
   },
   "outputs": [
    {
     "name": "stdout",
     "output_type": "stream",
     "text": [
      "Train...\n",
      "Train on 901 samples, validate on 386 samples\n",
      "Epoch 1/10\n",
      "117s - loss: 0.6609 - acc: 0.6570 - precision: 0.7328 - recall: 0.8453 - fmeasure: 0.7752 - val_loss: 0.6688 - val_acc: 0.7720 - val_precision: 0.7720 - val_recall: 0.8290 - val_fmeasure: 0.7856\n",
      "Epoch 2/10\n",
      "117s - loss: 0.6305 - acc: 0.7048 - precision: 0.7442 - recall: 0.9108 - fmeasure: 0.8169 - val_loss: 0.6659 - val_acc: 0.7694 - val_precision: 0.7720 - val_recall: 0.8264 - val_fmeasure: 0.7843\n",
      "Epoch 3/10\n",
      "117s - loss: 0.5651 - acc: 0.7292 - precision: 0.7585 - recall: 0.9238 - fmeasure: 0.8315 - val_loss: 0.6593 - val_acc: 0.7668 - val_precision: 0.7720 - val_recall: 0.8238 - val_fmeasure: 0.7830\n",
      "Epoch 4/10\n",
      "130s - loss: 0.5058 - acc: 0.7636 - precision: 0.7826 - recall: 0.9409 - fmeasure: 0.8521 - val_loss: 0.6643 - val_acc: 0.7254 - val_precision: 0.7702 - val_recall: 0.7715 - val_fmeasure: 0.7565\n",
      "Epoch 5/10\n",
      "117s - loss: 0.4692 - acc: 0.7836 - precision: 0.8060 - recall: 0.9280 - fmeasure: 0.8604 - val_loss: 0.6493 - val_acc: 0.7306 - val_precision: 0.7702 - val_recall: 0.7767 - val_fmeasure: 0.7593\n",
      "Epoch 6/10\n",
      "114s - loss: 0.4424 - acc: 0.7913 - precision: 0.8185 - recall: 0.9183 - fmeasure: 0.8630 - val_loss: 0.6384 - val_acc: 0.7306 - val_precision: 0.7720 - val_recall: 0.7798 - val_fmeasure: 0.7597\n",
      "Epoch 7/10\n",
      "115s - loss: 0.4282 - acc: 0.8102 - precision: 0.8293 - recall: 0.9361 - fmeasure: 0.8770 - val_loss: 0.6173 - val_acc: 0.7383 - val_precision: 0.7720 - val_recall: 0.7902 - val_fmeasure: 0.7651\n",
      "Epoch 8/10\n",
      "127s - loss: 0.3730 - acc: 0.8280 - precision: 0.8366 - recall: 0.9513 - fmeasure: 0.8876 - val_loss: 0.6130 - val_acc: 0.7202 - val_precision: 0.7720 - val_recall: 0.7720 - val_fmeasure: 0.7555\n",
      "Epoch 9/10\n",
      "122s - loss: 0.3555 - acc: 0.8557 - precision: 0.8713 - recall: 0.9451 - fmeasure: 0.9048 - val_loss: 0.5929 - val_acc: 0.7280 - val_precision: 0.7720 - val_recall: 0.7798 - val_fmeasure: 0.7598\n",
      "Epoch 10/10\n",
      "129s - loss: 0.3538 - acc: 0.8491 - precision: 0.8745 - recall: 0.9304 - fmeasure: 0.8991 - val_loss: 0.5780 - val_acc: 0.7332 - val_precision: 0.7720 - val_recall: 0.7876 - val_fmeasure: 0.7640\n",
      "avg sec per epoch: 122.309299994\n",
      "Accuracy: 73.32%\n",
      "['acc', 'loss', 'val_fmeasure', 'recall', 'precision', 'fmeasure', 'val_acc', 'val_recall', 'val_precision', 'val_loss']\n"
     ]
    },
    {
     "data": {
      "image/png": "[encoded data removed]",
      "text/plain": [
       "<matplotlib.figure.Figure at 0x1404a588>"
      ]
     },
     "metadata": {},
     "output_type": "display_data"
    }
   ],
   "source": [
    "# Forward pass LSTM network\n",
    "\n",
    "# try using different optimizers and different optimizer configs\n",
    "model_fdir_atom.compile('adam', 'binary_crossentropy', metrics=['accuracy','precision', 'recall', 'fmeasure'])\n",
    "print('Train...')\n",
    "start_time = time.time()\n",
    "\n",
    "history_fdir_atom = model_fdir_atom.fit(X_train, y_train,\n",
    "                    batch_size=batch_size,\n",
    "                    nb_epoch=epochs,\n",
    "                    validation_data=[X_test, y_test], \n",
    "                    verbose=2)\n",
    "\n",
    "end_time = time.time()\n",
    "average_time_per_epoch = (end_time - start_time) / epochs\n",
    "print(\"avg sec per epoch:\", average_time_per_epoch)\n",
    "\n",
    "scores = model_fdir_atom.evaluate(X_test, y_test, verbose=0)\n",
    "print(\"Accuracy: %.2f%%\" % (scores[1]*100))\n",
    "\n",
    "import matplotlib.pyplot as plt\n",
    "print(history_fdir_atom.history.keys())\n",
    "# summarize history for accuracy\n",
    "plt.plot(history_fdir_atom.history['acc'])\n",
    "plt.plot(history_fdir_atom.history['val_acc'])\n",
    "plt.title('model accuracy')\n",
    "plt.ylabel('accuracy')\n",
    "plt.xlabel('epoch')\n",
    "plt.legend(['train', 'test'], loc='upper left')\n",
    "plt.show()\n",
    "\n"
   ]
  },
  {
   "cell_type": "code",
   "execution_count": 16,
   "metadata": {
    "collapsed": false
   },
   "outputs": [
    {
     "data": {
      "image/png": "[encoded data removed]",
      "text/plain": [
       "<matplotlib.figure.Figure at 0x19d3dc18>"
      ]
     },
     "metadata": {},
     "output_type": "display_data"
    }
   ],
   "source": [
    "# summarize history for loss\n",
    "plt.plot(history_fdir_atom.history['loss'])\n",
    "plt.plot(history_fdir_atom.history['val_loss'])\n",
    "plt.title('model loss')\n",
    "plt.ylabel('loss')\n",
    "plt.xlabel('epoch')\n",
    "plt.legend(['train', 'test'], loc='upper left')\n",
    "plt.show()\n"
   ]
  },
  {
   "cell_type": "code",
   "execution_count": 17,
   "metadata": {
    "collapsed": false
   },
   "outputs": [
    {
     "name": "stdout",
     "output_type": "stream",
     "text": [
      "____________________________________________________________________________________________________\n",
      "Layer (type)                     Output Shape          Param #     Connected to                     \n",
      "====================================================================================================\n",
      "input_2 (InputLayer)             (None, 2000)          0                                            \n",
      "____________________________________________________________________________________________________\n",
      "embedding_2 (Embedding)          (None, 2000, 128)     115200      input_2[0][0]                    \n",
      "____________________________________________________________________________________________________\n",
      "batchnormalization_2 (BatchNorma (None, 2000, 128)     512         embedding_2[0][0]                \n",
      "____________________________________________________________________________________________________\n",
      "gru_2 (GRU)                      (None, 64)            37056       batchnormalization_2[0][0]       \n",
      "____________________________________________________________________________________________________\n",
      "gru_3 (GRU)                      (None, 64)            37056       batchnormalization_2[0][0]       \n",
      "____________________________________________________________________________________________________\n",
      "merge_1 (Merge)                  (None, 128)           0           gru_2[0][0]                      \n",
      "                                                                   gru_3[0][0]                      \n",
      "____________________________________________________________________________________________________\n",
      "dropout_2 (Dropout)              (None, 128)           0           merge_1[0][0]                    \n",
      "____________________________________________________________________________________________________\n",
      "dense_2 (Dense)                  (None, 1)             129         dropout_2[0][0]                  \n",
      "====================================================================================================\n",
      "Total params: 189,953\n",
      "Trainable params: 189,697\n",
      "Non-trainable params: 256\n",
      "____________________________________________________________________________________________________\n",
      "None\n"
     ]
    }
   ],
   "source": [
    "# Bi-directional Atom\n",
    "\n",
    "# based on keras tutorial: https://github.com/fchollet/keras/blob/master/examples/imdb_bidirectional_lstm.py\n",
    "\n",
    "# this is the placeholder tensor for the input sequences\n",
    "sequence = Input(shape=(max_len,), dtype='int32')\n",
    "# this embedding layer will transform the sequences of integers\n",
    "# into vectors of size embedding\n",
    "# embedding layer converts dense int input to one-hot in real time to save memory\n",
    "embedded = Embedding(max_features, embedding_neurons, input_length=max_len)(sequence)\n",
    "# normalize embeddings by input/word in sentence\n",
    "bnorm = BatchNormalization()(embedded)\n",
    "\n",
    "# apply forwards LSTM layer size lstm_neurons\n",
    "forwards = GRU(lstm_neurons, dropout_W=0.4, dropout_U=0.4)(bnorm)\n",
    "# apply backwards LSTM\n",
    "backwards = GRU(lstm_neurons, dropout_W=0.4, dropout_U=0.4, go_backwards=True)(bnorm)\n",
    "\n",
    "# concatenate the outputs of the 2 LSTMs\n",
    "merged = merge([forwards, backwards], mode='concat', concat_axis=-1)\n",
    "after_dp = Dropout(0.5)(merged)\n",
    "output = Dense(1, activation='sigmoid')(after_dp)\n",
    "\n",
    "model_bidir_atom = Model(input=sequence, output=output)\n",
    "# review model structure\n",
    "print(model_bidir_atom.summary())\n"
   ]
  },
  {
   "cell_type": "code",
   "execution_count": 18,
   "metadata": {
    "collapsed": false
   },
   "outputs": [
    {
     "name": "stdout",
     "output_type": "stream",
     "text": [
      "Train...\n",
      "Train on 901 samples, validate on 386 samples\n",
      "Epoch 1/10\n",
      "237s - loss: 0.6444 - acc: 0.6926 - precision: 0.7363 - recall: 0.9031 - fmeasure: 0.8083 - val_loss: 0.6607 - val_acc: 0.7720 - val_precision: 0.7720 - val_recall: 0.8290 - val_fmeasure: 0.7856\n",
      "Epoch 2/10\n",
      "237s - loss: nan - acc: 0.6959 - precision: nan - recall: nan - fmeasure: nan - val_loss: nan - val_acc: 0.0000e+00 - val_precision: nan - val_recall: nan - val_fmeasure: nan\n",
      "Epoch 3/10\n",
      "176s - loss: nan - acc: 0.0000e+00 - precision: nan - recall: nan - fmeasure: nan - val_loss: nan - val_acc: 0.0000e+00 - val_precision: nan - val_recall: nan - val_fmeasure: nan\n",
      "Epoch 4/10\n",
      "168s - loss: nan - acc: 0.0000e+00 - precision: nan - recall: nan - fmeasure: nan - val_loss: nan - val_acc: 0.0000e+00 - val_precision: nan - val_recall: nan - val_fmeasure: nan\n",
      "Epoch 5/10\n",
      "180s - loss: nan - acc: 0.0000e+00 - precision: nan - recall: nan - fmeasure: nan - val_loss: nan - val_acc: 0.0000e+00 - val_precision: nan - val_recall: nan - val_fmeasure: nan\n",
      "Epoch 6/10\n",
      "179s - loss: nan - acc: 0.0000e+00 - precision: nan - recall: nan - fmeasure: nan - val_loss: nan - val_acc: 0.0000e+00 - val_precision: nan - val_recall: nan - val_fmeasure: nan\n",
      "Epoch 7/10\n",
      "178s - loss: nan - acc: 0.0000e+00 - precision: nan - recall: nan - fmeasure: nan - val_loss: nan - val_acc: 0.0000e+00 - val_precision: nan - val_recall: nan - val_fmeasure: nan\n",
      "Epoch 8/10\n",
      "176s - loss: nan - acc: 0.0000e+00 - precision: nan - recall: nan - fmeasure: nan - val_loss: nan - val_acc: 0.0000e+00 - val_precision: nan - val_recall: nan - val_fmeasure: nan\n",
      "Epoch 9/10\n",
      "168s - loss: nan - acc: 0.0000e+00 - precision: nan - recall: nan - fmeasure: nan - val_loss: nan - val_acc: 0.0000e+00 - val_precision: nan - val_recall: nan - val_fmeasure: nan\n",
      "Epoch 10/10\n",
      "165s - loss: nan - acc: 0.0000e+00 - precision: nan - recall: nan - fmeasure: nan - val_loss: nan - val_acc: 0.0000e+00 - val_precision: nan - val_recall: nan - val_fmeasure: nan\n",
      "avg sec per epoch: 188.878200006\n",
      "Accuracy: 73.32%\n",
      "['acc', 'loss', 'val_fmeasure', 'recall', 'precision', 'fmeasure', 'val_acc', 'val_recall', 'val_precision', 'val_loss']\n"
     ]
    }
   ],
   "source": [
    "# Bi-directional Atom\n",
    "\n",
    "# try using different optimizers and different optimizer configs\n",
    "model_bidir_atom.compile('rmsprop', 'binary_crossentropy', metrics=['accuracy','precision', 'recall', 'fmeasure'])\n",
    "\n",
    "print('Train...')\n",
    "start_time = time.time()\n",
    "\n",
    "history_bidir_atom = model_bidir_atom.fit(X_train, y_train,\n",
    "                    batch_size=batch_size,\n",
    "                    nb_epoch=epochs,\n",
    "                    validation_data=[X_test, y_test], \n",
    "                    verbose=2)\n",
    "\n",
    "end_time = time.time()\n",
    "average_time_per_epoch = (end_time - start_time) / epochs\n",
    "print(\"avg sec per epoch:\", average_time_per_epoch)\n",
    "scores = model_fdir_atom.evaluate(X_test, y_test, verbose=0)\n",
    "print(\"Accuracy: %.2f%%\" % (scores[1]*100))\n",
    "\n",
    "import matplotlib.pyplot as plt\n",
    "print(history_bidir_atom.history.keys())\n",
    "\n"
   ]
  },
  {
   "cell_type": "code",
   "execution_count": 19,
   "metadata": {
    "collapsed": false
   },
   "outputs": [
    {
     "data": {
      "image/png": "[encoded data removed]",
      "text/plain": [
       "<matplotlib.figure.Figure at 0x269a1a20>"
      ]
     },
     "metadata": {},
     "output_type": "display_data"
    },
    {
     "data": {
      "image/png": "[encoded data removed]",
      "text/plain": [
       "<matplotlib.figure.Figure at 0x19d042e8>"
      ]
     },
     "metadata": {},
     "output_type": "display_data"
    }
   ],
   "source": [
    "# summarize history for accuracy\n",
    "plt.plot(history_bidir_atom.history['acc'])\n",
    "plt.plot(history_bidir_atom.history['val_acc'])\n",
    "plt.title('model accuracy')\n",
    "plt.ylabel('accuracy')\n",
    "plt.xlabel('epoch')\n",
    "plt.legend(['train', 'test'], loc='upper left')\n",
    "plt.show()\n",
    "# summarize history for loss\n",
    "plt.plot(history_bidir_atom.history['loss'])\n",
    "plt.plot(history_bidir_atom.history['val_loss'])\n",
    "plt.title('model loss')\n",
    "plt.ylabel('loss')\n",
    "plt.xlabel('epoch')\n",
    "plt.legend(['train', 'test'], loc='upper left')\n",
    "plt.show()"
   ]
  },
  {
   "cell_type": "code",
   "execution_count": null,
   "metadata": {
    "collapsed": true
   },
   "outputs": [],
   "source": []
  }
 ],
 "metadata": {
  "kernelspec": {
   "display_name": "Python 2",
   "language": "python",
   "name": "python2"
  },
  "language_info": {
   "codemirror_mode": {
    "name": "ipython",
    "version": 2
   },
   "file_extension": ".py",
   "mimetype": "text/x-python",
   "name": "python",
   "nbconvert_exporter": "python",
   "pygments_lexer": "ipython2",
   "version": "2.7.13"
  }
 },
 "nbformat": 4,
 "nbformat_minor": 2
}
